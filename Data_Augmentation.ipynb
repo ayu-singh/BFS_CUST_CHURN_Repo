{
 "cells": [
  {
   "cell_type": "code",
   "execution_count": 14,
   "id": "379bbcf9",
   "metadata": {},
   "outputs": [],
   "source": [
    "# !pip install openpyxl"
   ]
  },
  {
   "cell_type": "code",
   "execution_count": 43,
   "id": "c47bdd89",
   "metadata": {},
   "outputs": [],
   "source": [
    "import numpy as np\n",
    "import pandas as pd\n",
    "from tqdm import tqdm\n",
    "tqdm.pandas()"
   ]
  },
  {
   "cell_type": "code",
   "execution_count": 44,
   "id": "6a9c756b",
   "metadata": {},
   "outputs": [
    {
     "data": {
      "text/plain": [
       "(234501, 18)"
      ]
     },
     "execution_count": 44,
     "metadata": {},
     "output_type": "execute_result"
    }
   ],
   "source": [
    "df = pd.read_csv(\"/data/Augmented_data.csv\")\n",
    "df.shape"
   ]
  },
  {
   "cell_type": "code",
   "execution_count": 45,
   "id": "7830e9b6",
   "metadata": {},
   "outputs": [
    {
     "data": {
      "text/plain": [
       "0.14290770615050682"
      ]
     },
     "execution_count": 45,
     "metadata": {},
     "output_type": "execute_result"
    }
   ],
   "source": [
    "df[df[\"Exited\"] == 1].shape[0] /df.shape[0]"
   ]
  },
  {
   "cell_type": "code",
   "execution_count": 46,
   "id": "eae45556",
   "metadata": {},
   "outputs": [
    {
     "data": {
      "text/html": [
       "<div>\n",
       "<style scoped>\n",
       "    .dataframe tbody tr th:only-of-type {\n",
       "        vertical-align: middle;\n",
       "    }\n",
       "\n",
       "    .dataframe tbody tr th {\n",
       "        vertical-align: top;\n",
       "    }\n",
       "\n",
       "    .dataframe thead th {\n",
       "        text-align: right;\n",
       "    }\n",
       "</style>\n",
       "<table border=\"1\" class=\"dataframe\">\n",
       "  <thead>\n",
       "    <tr style=\"text-align: right;\">\n",
       "      <th></th>\n",
       "      <th>CustomerId</th>\n",
       "      <th>Surname</th>\n",
       "      <th>CreditScore</th>\n",
       "      <th>Geography</th>\n",
       "      <th>Gender</th>\n",
       "      <th>Age</th>\n",
       "      <th>Tenure</th>\n",
       "      <th>Balance</th>\n",
       "      <th>NumOfProducts</th>\n",
       "      <th>HasCrCard</th>\n",
       "      <th>IsActiveMember</th>\n",
       "      <th>EstimatedSalary</th>\n",
       "      <th>Exited</th>\n",
       "      <th>Complain</th>\n",
       "      <th>Satisfaction Score</th>\n",
       "      <th>Card Type</th>\n",
       "      <th>Point Earned</th>\n",
       "      <th>date</th>\n",
       "    </tr>\n",
       "  </thead>\n",
       "  <tbody>\n",
       "    <tr>\n",
       "      <th>0</th>\n",
       "      <td>15572489</td>\n",
       "      <td>HEALEY</td>\n",
       "      <td>1720.007287</td>\n",
       "      <td>Spain</td>\n",
       "      <td>Female</td>\n",
       "      <td>73</td>\n",
       "      <td>29</td>\n",
       "      <td>393987.727351</td>\n",
       "      <td>1</td>\n",
       "      <td>1</td>\n",
       "      <td>1</td>\n",
       "      <td>1.0</td>\n",
       "      <td>0</td>\n",
       "      <td>0</td>\n",
       "      <td>3</td>\n",
       "      <td>DIAMOND</td>\n",
       "      <td>2531.0</td>\n",
       "      <td>1-6-2022</td>\n",
       "    </tr>\n",
       "    <tr>\n",
       "      <th>1</th>\n",
       "      <td>15800464</td>\n",
       "      <td>PARTIDA</td>\n",
       "      <td>1518.782461</td>\n",
       "      <td>Spain</td>\n",
       "      <td>Male</td>\n",
       "      <td>53</td>\n",
       "      <td>15</td>\n",
       "      <td>274502.817582</td>\n",
       "      <td>2</td>\n",
       "      <td>1</td>\n",
       "      <td>0</td>\n",
       "      <td>1.0</td>\n",
       "      <td>1</td>\n",
       "      <td>0</td>\n",
       "      <td>4</td>\n",
       "      <td>SILVER</td>\n",
       "      <td>1725.0</td>\n",
       "      <td>1-2-2022</td>\n",
       "    </tr>\n",
       "    <tr>\n",
       "      <th>2</th>\n",
       "      <td>15580134</td>\n",
       "      <td>Crawford</td>\n",
       "      <td>502.950000</td>\n",
       "      <td>Spain</td>\n",
       "      <td>Male</td>\n",
       "      <td>27</td>\n",
       "      <td>2</td>\n",
       "      <td>184535.891500</td>\n",
       "      <td>1</td>\n",
       "      <td>1</td>\n",
       "      <td>1</td>\n",
       "      <td>1.0</td>\n",
       "      <td>0</td>\n",
       "      <td>0</td>\n",
       "      <td>3</td>\n",
       "      <td>DIAMOND</td>\n",
       "      <td>711.0</td>\n",
       "      <td>1-1-2020</td>\n",
       "    </tr>\n",
       "    <tr>\n",
       "      <th>3</th>\n",
       "      <td>15074588</td>\n",
       "      <td>PINKERTON</td>\n",
       "      <td>1468.954354</td>\n",
       "      <td>Spain</td>\n",
       "      <td>Male</td>\n",
       "      <td>49</td>\n",
       "      <td>15</td>\n",
       "      <td>0.000000</td>\n",
       "      <td>1</td>\n",
       "      <td>1</td>\n",
       "      <td>0</td>\n",
       "      <td>1.0</td>\n",
       "      <td>0</td>\n",
       "      <td>0</td>\n",
       "      <td>5</td>\n",
       "      <td>SILVER</td>\n",
       "      <td>1512.0</td>\n",
       "      <td>1-1-2022</td>\n",
       "    </tr>\n",
       "    <tr>\n",
       "      <th>4</th>\n",
       "      <td>15982065</td>\n",
       "      <td>ABERNATHY</td>\n",
       "      <td>1683.914742</td>\n",
       "      <td>France</td>\n",
       "      <td>Male</td>\n",
       "      <td>49</td>\n",
       "      <td>30</td>\n",
       "      <td>0.000000</td>\n",
       "      <td>2</td>\n",
       "      <td>1</td>\n",
       "      <td>0</td>\n",
       "      <td>1.0</td>\n",
       "      <td>1</td>\n",
       "      <td>0</td>\n",
       "      <td>3</td>\n",
       "      <td>DIAMOND</td>\n",
       "      <td>1296.0</td>\n",
       "      <td>1-6-2022</td>\n",
       "    </tr>\n",
       "  </tbody>\n",
       "</table>\n",
       "</div>"
      ],
      "text/plain": [
       "   CustomerId    Surname  CreditScore Geography  Gender  Age  Tenure  \\\n",
       "0    15572489     HEALEY  1720.007287     Spain  Female   73      29   \n",
       "1    15800464    PARTIDA  1518.782461     Spain    Male   53      15   \n",
       "2    15580134   Crawford   502.950000     Spain    Male   27       2   \n",
       "3    15074588  PINKERTON  1468.954354     Spain    Male   49      15   \n",
       "4    15982065  ABERNATHY  1683.914742    France    Male   49      30   \n",
       "\n",
       "         Balance  NumOfProducts  HasCrCard  IsActiveMember  EstimatedSalary  \\\n",
       "0  393987.727351              1          1               1              1.0   \n",
       "1  274502.817582              2          1               0              1.0   \n",
       "2  184535.891500              1          1               1              1.0   \n",
       "3       0.000000              1          1               0              1.0   \n",
       "4       0.000000              2          1               0              1.0   \n",
       "\n",
       "   Exited  Complain  Satisfaction Score Card Type  Point Earned      date  \n",
       "0       0         0                   3   DIAMOND        2531.0  1-6-2022  \n",
       "1       1         0                   4    SILVER        1725.0  1-2-2022  \n",
       "2       0         0                   3   DIAMOND         711.0  1-1-2020  \n",
       "3       0         0                   5    SILVER        1512.0  1-1-2022  \n",
       "4       1         0                   3   DIAMOND        1296.0  1-6-2022  "
      ]
     },
     "execution_count": 46,
     "metadata": {},
     "output_type": "execute_result"
    }
   ],
   "source": [
    "df.head()"
   ]
  },
  {
   "cell_type": "code",
   "execution_count": 47,
   "id": "7aab3028",
   "metadata": {},
   "outputs": [],
   "source": [
    "cities = pd.read_excel(\"US_cities.xlsx\")\n",
    "# companies = pd.read_csv(\"us_companies.csv\")"
   ]
  },
  {
   "cell_type": "code",
   "execution_count": 48,
   "id": "4f702af1",
   "metadata": {},
   "outputs": [],
   "source": [
    "state_city = {}\n",
    "for st, ct in zip(cities[\"state\"], cities[\"city\"]):\n",
    "    if st not in state_city:\n",
    "        state_city[st] = [ct]\n",
    "    else:\n",
    "        state_city[st].append(ct)"
   ]
  },
  {
   "cell_type": "code",
   "execution_count": 49,
   "id": "03e87bb7",
   "metadata": {},
   "outputs": [
    {
     "name": "stderr",
     "output_type": "stream",
     "text": [
      "100%|██████████| 234501/234501 [00:00<00:00, 995919.88it/s] \n"
     ]
    }
   ],
   "source": [
    "df[\"Surname\"] = df[\"Surname\"].progress_apply(lambda x: str(x).capitalize())"
   ]
  },
  {
   "cell_type": "code",
   "execution_count": 50,
   "id": "a01a1653",
   "metadata": {},
   "outputs": [
    {
     "name": "stderr",
     "output_type": "stream",
     "text": [
      "100%|██████████| 234501/234501 [00:00<00:00, 1222518.23it/s]\n"
     ]
    }
   ],
   "source": [
    "state_mapper = {}\n",
    "def get_state(x):\n",
    "    if x not in state_mapper:\n",
    "        state = np.random.choice(list(state_city.keys()))\n",
    "        state_mapper[x] = state\n",
    "        return state\n",
    "    else:\n",
    "        return state_mapper[x]\n",
    "    \n",
    "df[\"Geography\"] = df[\"Geography\"].progress_apply(get_state)"
   ]
  },
  {
   "cell_type": "code",
   "execution_count": 51,
   "id": "827691e1",
   "metadata": {},
   "outputs": [
    {
     "data": {
      "text/plain": [
       "array(['New York', 'Nebraska', 'Pennsylvania'], dtype=object)"
      ]
     },
     "execution_count": 51,
     "metadata": {},
     "output_type": "execute_result"
    }
   ],
   "source": [
    "df[\"Geography\"].unique()"
   ]
  },
  {
   "cell_type": "code",
   "execution_count": 53,
   "id": "8d3ca9e7",
   "metadata": {},
   "outputs": [
    {
     "name": "stderr",
     "output_type": "stream",
     "text": [
      "100%|██████████| 234501/234501 [00:04<00:00, 53738.60it/s]\n"
     ]
    }
   ],
   "source": [
    "df[\"City\"] = df[\"Geography\"].progress_apply(lambda x: np.random.choice(state_city[x]))"
   ]
  }
 ],
 "metadata": {
  "kernelspec": {
   "display_name": "Python 3",
   "language": "python",
   "name": "python3"
  },
  "language_info": {
   "codemirror_mode": {
    "name": "ipython",
    "version": 3
   },
   "file_extension": ".py",
   "mimetype": "text/x-python",
   "name": "python",
   "nbconvert_exporter": "python",
   "pygments_lexer": "ipython3",
   "version": "3.8.18"
  }
 },
 "nbformat": 4,
 "nbformat_minor": 5
}
