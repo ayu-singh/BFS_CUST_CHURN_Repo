{
 "cells": [
  {
   "cell_type": "code",
   "execution_count": 1,
   "id": "0cca63ff",
   "metadata": {},
   "outputs": [],
   "source": [
    "# !pip install openpyxl"
   ]
  },
  {
   "cell_type": "code",
   "execution_count": 20,
   "id": "c47bdd89",
   "metadata": {},
   "outputs": [
    {
     "name": "stderr",
     "output_type": "stream",
     "text": [
      "100%|██████████| 332397/332397 [00:00<00:00, 941663.38it/s]\n"
     ]
    },
    {
     "data": {
      "text/html": [
       "<div>\n",
       "<style scoped>\n",
       "    .dataframe tbody tr th:only-of-type {\n",
       "        vertical-align: middle;\n",
       "    }\n",
       "\n",
       "    .dataframe tbody tr th {\n",
       "        vertical-align: top;\n",
       "    }\n",
       "\n",
       "    .dataframe thead th {\n",
       "        text-align: right;\n",
       "    }\n",
       "</style>\n",
       "<table border=\"1\" class=\"dataframe\">\n",
       "  <thead>\n",
       "    <tr style=\"text-align: right;\">\n",
       "      <th></th>\n",
       "      <th>CustomerId</th>\n",
       "      <th>Surname</th>\n",
       "      <th>CreditScore</th>\n",
       "      <th>Geography</th>\n",
       "      <th>Gender</th>\n",
       "      <th>Age</th>\n",
       "      <th>Tenure</th>\n",
       "      <th>Balance</th>\n",
       "      <th>NumOfProducts</th>\n",
       "      <th>HasCrCard</th>\n",
       "      <th>IsActiveMember</th>\n",
       "      <th>EstimatedSalary</th>\n",
       "      <th>Exited</th>\n",
       "      <th>Complain</th>\n",
       "      <th>Satisfaction Score</th>\n",
       "      <th>Card Type</th>\n",
       "      <th>Point Earned</th>\n",
       "      <th>date</th>\n",
       "    </tr>\n",
       "  </thead>\n",
       "  <tbody>\n",
       "    <tr>\n",
       "      <th>0</th>\n",
       "      <td>15658241</td>\n",
       "      <td>Olmstead</td>\n",
       "      <td>140.686089</td>\n",
       "      <td>Germany</td>\n",
       "      <td>Female</td>\n",
       "      <td>81</td>\n",
       "      <td>48</td>\n",
       "      <td>438091.980941</td>\n",
       "      <td>2</td>\n",
       "      <td>1</td>\n",
       "      <td>0</td>\n",
       "      <td>1.0</td>\n",
       "      <td>0</td>\n",
       "      <td>0</td>\n",
       "      <td>2</td>\n",
       "      <td>GOLD</td>\n",
       "      <td>2194.0</td>\n",
       "      <td>1-2-2023</td>\n",
       "    </tr>\n",
       "    <tr>\n",
       "      <th>1</th>\n",
       "      <td>15627162</td>\n",
       "      <td>Blesing</td>\n",
       "      <td>614.692750</td>\n",
       "      <td>Germany</td>\n",
       "      <td>Male</td>\n",
       "      <td>27</td>\n",
       "      <td>6</td>\n",
       "      <td>155245.230616</td>\n",
       "      <td>1</td>\n",
       "      <td>1</td>\n",
       "      <td>0</td>\n",
       "      <td>1.0</td>\n",
       "      <td>0</td>\n",
       "      <td>0</td>\n",
       "      <td>1</td>\n",
       "      <td>SILVER</td>\n",
       "      <td>675.0</td>\n",
       "      <td>1-3-2020</td>\n",
       "    </tr>\n",
       "    <tr>\n",
       "      <th>2</th>\n",
       "      <td>15986692</td>\n",
       "      <td>Leiva</td>\n",
       "      <td>665.305005</td>\n",
       "      <td>Germany</td>\n",
       "      <td>Male</td>\n",
       "      <td>35</td>\n",
       "      <td>7</td>\n",
       "      <td>157859.682813</td>\n",
       "      <td>2</td>\n",
       "      <td>1</td>\n",
       "      <td>1</td>\n",
       "      <td>1.0</td>\n",
       "      <td>0</td>\n",
       "      <td>0</td>\n",
       "      <td>5</td>\n",
       "      <td>SILVER</td>\n",
       "      <td>758.0</td>\n",
       "      <td>1-10-2020</td>\n",
       "    </tr>\n",
       "    <tr>\n",
       "      <th>3</th>\n",
       "      <td>15443069</td>\n",
       "      <td>Jamieson</td>\n",
       "      <td>541.210330</td>\n",
       "      <td>France</td>\n",
       "      <td>Male</td>\n",
       "      <td>36</td>\n",
       "      <td>7</td>\n",
       "      <td>0.000000</td>\n",
       "      <td>2</td>\n",
       "      <td>0</td>\n",
       "      <td>1</td>\n",
       "      <td>0.0</td>\n",
       "      <td>1</td>\n",
       "      <td>0</td>\n",
       "      <td>5</td>\n",
       "      <td>GOLD</td>\n",
       "      <td>1365.0</td>\n",
       "      <td>1-10-2020</td>\n",
       "    </tr>\n",
       "    <tr>\n",
       "      <th>4</th>\n",
       "      <td>15611786</td>\n",
       "      <td>Tsui</td>\n",
       "      <td>621.240000</td>\n",
       "      <td>Spain</td>\n",
       "      <td>Female</td>\n",
       "      <td>69</td>\n",
       "      <td>9</td>\n",
       "      <td>0.000000</td>\n",
       "      <td>1</td>\n",
       "      <td>0</td>\n",
       "      <td>1</td>\n",
       "      <td>0.0</td>\n",
       "      <td>0</td>\n",
       "      <td>0</td>\n",
       "      <td>5</td>\n",
       "      <td>PLATINUM</td>\n",
       "      <td>401.0</td>\n",
       "      <td>1-1-2020</td>\n",
       "    </tr>\n",
       "  </tbody>\n",
       "</table>\n",
       "</div>"
      ],
      "text/plain": [
       "   CustomerId   Surname  CreditScore Geography  Gender  Age  Tenure  \\\n",
       "0    15658241  Olmstead   140.686089   Germany  Female   81      48   \n",
       "1    15627162   Blesing   614.692750   Germany    Male   27       6   \n",
       "2    15986692     Leiva   665.305005   Germany    Male   35       7   \n",
       "3    15443069  Jamieson   541.210330    France    Male   36       7   \n",
       "4    15611786      Tsui   621.240000     Spain  Female   69       9   \n",
       "\n",
       "         Balance  NumOfProducts  HasCrCard  IsActiveMember  EstimatedSalary  \\\n",
       "0  438091.980941              2          1               0              1.0   \n",
       "1  155245.230616              1          1               0              1.0   \n",
       "2  157859.682813              2          1               1              1.0   \n",
       "3       0.000000              2          0               1              0.0   \n",
       "4       0.000000              1          0               1              0.0   \n",
       "\n",
       "   Exited  Complain  Satisfaction Score Card Type  Point Earned       date  \n",
       "0       0         0                   2      GOLD        2194.0   1-2-2023  \n",
       "1       0         0                   1    SILVER         675.0   1-3-2020  \n",
       "2       0         0                   5    SILVER         758.0  1-10-2020  \n",
       "3       1         0                   5      GOLD        1365.0  1-10-2020  \n",
       "4       0         0                   5  PLATINUM         401.0   1-1-2020  "
      ]
     },
     "execution_count": 20,
     "metadata": {},
     "output_type": "execute_result"
    }
   ],
   "source": [
    "import numpy as np\n",
    "import pandas as pd\n",
    "from tqdm import tqdm\n",
    "tqdm.pandas()\n",
    "\n",
    "df = pd.read_csv(\"/data/Augmented_data.csv\")\n",
    "df[\"Surname\"] = df[\"Surname\"].progress_apply(lambda x: str(x).capitalize())\n",
    "df.head()"
   ]
  },
  {
   "cell_type": "code",
   "execution_count": 21,
   "id": "3cdaf551",
   "metadata": {},
   "outputs": [],
   "source": [
    "cus_st = {}\n",
    "for cus, st in zip(df[\"CustomerId\"],df[\"Geography\"]):\n",
    "    if cus not in cus_st:\n",
    "        cus_st[cus] = [st]\n",
    "    else:\n",
    "        if st not in cus_st[cus]:\n",
    "            cus_st[cus].append(st)"
   ]
  },
  {
   "cell_type": "code",
   "execution_count": 22,
   "id": "7290dcec",
   "metadata": {},
   "outputs": [
    {
     "name": "stderr",
     "output_type": "stream",
     "text": [
      "100%|██████████| 332397/332397 [00:00<00:00, 983964.97it/s] \n"
     ]
    }
   ],
   "source": [
    "df[\"Geography\"] =  df[\"CustomerId\"].progress_apply(lambda x: cus_st[x][0])"
   ]
  },
  {
   "cell_type": "code",
   "execution_count": 23,
   "id": "46a9b4f3",
   "metadata": {},
   "outputs": [],
   "source": [
    "cities = pd.read_excel(\"US_cities.xlsx\")\n",
    "state_city = {}\n",
    "for st, ct in zip(cities[\"state\"], cities[\"city\"]):\n",
    "    if st not in state_city:\n",
    "        state_city[st] = [ct]\n",
    "    else:\n",
    "        state_city[st].append(ct)\n",
    "        \n",
    "        \n",
    "state_mapper = {}\n",
    "for st in df[\"Geography\"]:\n",
    "    if st not in state_mapper:\n",
    "        state_mapper[st] = np.random.choice(list(state_city.keys()))\n",
    "        \n",
    "city_mapper = {}\n",
    "for cust_id, st in zip(df[\"CustomerId\"],df[\"Geography\"]):\n",
    "    if cust_id not in city_mapper:\n",
    "        city_mapper[cust_id] = np.random.choice(state_city[state_mapper[st]])"
   ]
  },
  {
   "cell_type": "code",
   "execution_count": 24,
   "id": "c4930073",
   "metadata": {},
   "outputs": [
    {
     "name": "stderr",
     "output_type": "stream",
     "text": [
      "100%|██████████| 332397/332397 [00:00<00:00, 1002376.98it/s]\n",
      "100%|██████████| 332397/332397 [00:00<00:00, 1090692.23it/s]\n",
      "100%|██████████| 332397/332397 [00:00<00:00, 1073804.50it/s]\n",
      "100%|██████████| 332397/332397 [00:00<00:00, 752317.28it/s]\n",
      "100%|██████████| 332397/332397 [00:00<00:00, 1220946.22it/s]\n"
     ]
    }
   ],
   "source": [
    "df[\"City\"] = df[\"CustomerId\"].progress_apply(lambda x: city_mapper[x])\n",
    "df[\"month\"] = df[\"date\"].progress_apply(lambda x: x.split(\"-\")[1])\n",
    "df[\"year\"] = df[\"date\"].progress_apply(lambda x: x.split(\"-\")[-1])\n",
    "df[\"CreditScore\"] = df[\"CreditScore\"].progress_apply(lambda x: round(x,0))\n",
    "df[\"Account_type\"] = df[\"Tenure\"].progress_apply(lambda x: \"Gold\" if x > 15 else \"Premium\" if x <= 15 and x >=8 else \"Normal\")"
   ]
  },
  {
   "cell_type": "code",
   "execution_count": 25,
   "id": "68420684",
   "metadata": {},
   "outputs": [
    {
     "name": "stderr",
     "output_type": "stream",
     "text": [
      "100%|██████████| 332397/332397 [00:00<00:00, 1000911.81it/s]\n"
     ]
    }
   ],
   "source": [
    "df[\"Other Accounts\"] = df[\"Tenure\"].progress_apply(lambda x: 1 if x > 7 else 0)"
   ]
  },
  {
   "cell_type": "code",
   "execution_count": 26,
   "id": "e640e541",
   "metadata": {},
   "outputs": [
    {
     "name": "stderr",
     "output_type": "stream",
     "text": [
      "100%|██████████| 332397/332397 [00:00<00:00, 1069035.48it/s]\n"
     ]
    }
   ],
   "source": [
    "df[\"Salary Account\"] = df[\"Satisfaction Score\"].progress_apply(lambda x: 1 if x >= 3 else 0 )"
   ]
  },
  {
   "cell_type": "code",
   "execution_count": 32,
   "id": "efcc6123",
   "metadata": {},
   "outputs": [
    {
     "data": {
      "text/html": [
       "<div>\n",
       "<style scoped>\n",
       "    .dataframe tbody tr th:only-of-type {\n",
       "        vertical-align: middle;\n",
       "    }\n",
       "\n",
       "    .dataframe tbody tr th {\n",
       "        vertical-align: top;\n",
       "    }\n",
       "\n",
       "    .dataframe thead th {\n",
       "        text-align: right;\n",
       "    }\n",
       "</style>\n",
       "<table border=\"1\" class=\"dataframe\">\n",
       "  <thead>\n",
       "    <tr style=\"text-align: right;\">\n",
       "      <th></th>\n",
       "      <th>CustomerId</th>\n",
       "      <th>Surname</th>\n",
       "      <th>CreditScore</th>\n",
       "      <th>Geography</th>\n",
       "      <th>Gender</th>\n",
       "      <th>Age</th>\n",
       "      <th>Tenure</th>\n",
       "      <th>Balance</th>\n",
       "      <th>NumOfProducts</th>\n",
       "      <th>HasCrCard</th>\n",
       "      <th>...</th>\n",
       "      <th>Satisfaction Score</th>\n",
       "      <th>Card Type</th>\n",
       "      <th>Point Earned</th>\n",
       "      <th>date</th>\n",
       "      <th>City</th>\n",
       "      <th>month</th>\n",
       "      <th>year</th>\n",
       "      <th>Account_type</th>\n",
       "      <th>Other Accounts</th>\n",
       "      <th>Salary Account</th>\n",
       "    </tr>\n",
       "  </thead>\n",
       "  <tbody>\n",
       "    <tr>\n",
       "      <th>0</th>\n",
       "      <td>15658241</td>\n",
       "      <td>Olmstead</td>\n",
       "      <td>141.0</td>\n",
       "      <td>Germany</td>\n",
       "      <td>Female</td>\n",
       "      <td>81</td>\n",
       "      <td>48</td>\n",
       "      <td>438091.980941</td>\n",
       "      <td>2</td>\n",
       "      <td>Yes</td>\n",
       "      <td>...</td>\n",
       "      <td>2</td>\n",
       "      <td>GOLD</td>\n",
       "      <td>2194.0</td>\n",
       "      <td>1-2-2023</td>\n",
       "      <td>Omaha</td>\n",
       "      <td>2</td>\n",
       "      <td>2023</td>\n",
       "      <td>Gold</td>\n",
       "      <td>1</td>\n",
       "      <td>0</td>\n",
       "    </tr>\n",
       "  </tbody>\n",
       "</table>\n",
       "<p>1 rows × 24 columns</p>\n",
       "</div>"
      ],
      "text/plain": [
       "   CustomerId   Surname  CreditScore Geography  Gender  Age  Tenure  \\\n",
       "0    15658241  Olmstead        141.0   Germany  Female   81      48   \n",
       "\n",
       "         Balance  NumOfProducts HasCrCard  ... Satisfaction Score  Card Type  \\\n",
       "0  438091.980941              2       Yes  ...                  2       GOLD   \n",
       "\n",
       "   Point Earned      date   City month  year Account_type Other Accounts  \\\n",
       "0        2194.0  1-2-2023  Omaha     2  2023         Gold              1   \n",
       "\n",
       "  Salary Account  \n",
       "0              0  \n",
       "\n",
       "[1 rows x 24 columns]"
      ]
     },
     "execution_count": 32,
     "metadata": {},
     "output_type": "execute_result"
    }
   ],
   "source": [
    "df.head(1)"
   ]
  },
  {
   "cell_type": "code",
   "execution_count": 30,
   "id": "5e68476e",
   "metadata": {},
   "outputs": [
    {
     "data": {
      "text/plain": [
       "Index(['CustomerId', 'Surname', 'CreditScore', 'Geography', 'Gender', 'Age',\n",
       "       'Tenure', 'Balance', 'NumOfProducts', 'HasCrCard', 'IsActiveMember',\n",
       "       'EstimatedSalary', 'Exited', 'Complain', 'Satisfaction Score',\n",
       "       'Card Type', 'Point Earned', 'date', 'City', 'month', 'year',\n",
       "       'Account_type', 'Other Accounts', 'Salary Account'],\n",
       "      dtype='object')"
      ]
     },
     "execution_count": 30,
     "metadata": {},
     "output_type": "execute_result"
    }
   ],
   "source": [
    "df.columns"
   ]
  },
  {
   "cell_type": "code",
   "execution_count": 31,
   "id": "27229509",
   "metadata": {},
   "outputs": [
    {
     "name": "stderr",
     "output_type": "stream",
     "text": [
      "100%|██████████| 332397/332397 [00:00<00:00, 1240666.41it/s]\n",
      "100%|██████████| 332397/332397 [00:00<00:00, 1272288.80it/s]\n"
     ]
    }
   ],
   "source": [
    "df[\"HasCrCard\"] = df[\"HasCrCard\"].progress_apply(lambda x: \"Yes\" if x == 1 else \"No\")\n",
    "df[\"IsActiveMember\"] = df[\"IsActiveMember\"].progress_apply(lambda x: \"Yes\" if x == 1 else \"No\")"
   ]
  },
  {
   "cell_type": "code",
   "execution_count": 33,
   "id": "5fc30e20",
   "metadata": {},
   "outputs": [
    {
     "name": "stderr",
     "output_type": "stream",
     "text": [
      "100%|██████████| 332397/332397 [00:00<00:00, 1272649.99it/s]\n"
     ]
    }
   ],
   "source": [
    "df[\"Exited\"] = df[\"Exited\"].progress_apply(lambda x: \"Exited\" if x == 1 else \"Not Exited\")"
   ]
  },
  {
   "cell_type": "code",
   "execution_count": null,
   "id": "915bdb92",
   "metadata": {},
   "outputs": [],
   "source": [
    "Credit Score Category (Below 580: poor, 580 to 669: fair, 670 to 739: good, 740 to 799: very good, 800 and above: exceptional.) \n"
   ]
  },
  {
   "cell_type": "code",
   "execution_count": 35,
   "id": "4d0ce111",
   "metadata": {},
   "outputs": [
    {
     "name": "stderr",
     "output_type": "stream",
     "text": [
      "100%|██████████| 332397/332397 [00:00<00:00, 1057899.54it/s]\n"
     ]
    }
   ],
   "source": [
    "df[\"CreditScore\"] = df[\"CreditScore\"].progress_apply(lambda x: 350 if x <=350 else x)"
   ]
  },
  {
   "cell_type": "code",
   "execution_count": 41,
   "id": "c6d50fdf",
   "metadata": {},
   "outputs": [
    {
     "name": "stderr",
     "output_type": "stream",
     "text": [
      "100%|██████████| 332397/332397 [00:00<00:00, 1012438.27it/s]\n"
     ]
    }
   ],
   "source": [
    "def cs_category(x):\n",
    "    if x > 800:\n",
    "        return \"Exceptional\"\n",
    "    if x > 740:\n",
    "        return \"Very Good\"\n",
    "    if x > 670:\n",
    "        return \"Good\"\n",
    "    if x > 580:\n",
    "        return \"Fair\"\n",
    "    else:\n",
    "        return \"poor\"\n",
    "df[\"CS_Category\"] = df[\"CreditScore\"].progress_apply(cs_category)"
   ]
  },
  {
   "cell_type": "code",
   "execution_count": 42,
   "id": "657285a9",
   "metadata": {},
   "outputs": [
    {
     "data": {
      "text/plain": [
       "array([2, 1, 5, 4, 3])"
      ]
     },
     "execution_count": 42,
     "metadata": {},
     "output_type": "execute_result"
    }
   ],
   "source": [
    "df[\"Satisfaction Score\"].unique()"
   ]
  },
  {
   "cell_type": "code",
   "execution_count": 43,
   "id": "9da5bfd3",
   "metadata": {},
   "outputs": [
    {
     "name": "stderr",
     "output_type": "stream",
     "text": [
      "100%|██████████| 332397/332397 [00:00<00:00, 1256563.98it/s]\n"
     ]
    }
   ],
   "source": [
    "df[\"SS_Category\"] = df[\"Satisfaction Score\"].progress_apply(lambda x: \"Poor\" if x <3 else \"Good\" if x < 4 else \"Very Good\")"
   ]
  },
  {
   "cell_type": "code",
   "execution_count": null,
   "id": "71a0da85",
   "metadata": {},
   "outputs": [],
   "source": [
    "month_dic = {'May':5, 'Oct':10, 'Nov':11, 'Feb':2, 'Apr':4, 'Jul':7, 'Jan':1, 'Sep':9, 'Jun':6,\n",
    "       'Aug':8, 'Dec':12, 'Mar':3}\n",
    "\n",
    "def convert_month(x):\n",
    "    temp_ = x.split(\"-\")\n",
    "    temp_[-2] = str(month_dic[temp_[-2]])\n",
    "    return \"-\".join(temp_)\n",
    "\n",
    "df[\"month\"] = df[\"month\"].progress_apply(convert_month)"
   ]
  },
  {
   "cell_type": "code",
   "execution_count": 44,
   "id": "9dd0d8f0",
   "metadata": {},
   "outputs": [],
   "source": [
    "df.to_csv(\"/data/bank_customer_churn_data.csv\", index=False)"
   ]
  }
 ],
 "metadata": {
  "kernelspec": {
   "display_name": "Python 3",
   "language": "python",
   "name": "python3"
  },
  "language_info": {
   "codemirror_mode": {
    "name": "ipython",
    "version": 3
   },
   "file_extension": ".py",
   "mimetype": "text/x-python",
   "name": "python",
   "nbconvert_exporter": "python",
   "pygments_lexer": "ipython3",
   "version": "3.8.18"
  }
 },
 "nbformat": 4,
 "nbformat_minor": 5
}
